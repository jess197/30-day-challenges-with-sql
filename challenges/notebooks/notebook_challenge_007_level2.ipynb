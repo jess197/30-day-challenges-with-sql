{
  "cells": [
    {
      "cell_type": "markdown",
      "id": "160bbfb2",
      "metadata": {
        "id": "160bbfb2"
      },
      "source": [
        "# Por favor tente resolver o desafio sozinho, não pegue atalhos, tu consegue, é só colocar a cabeça para funcionar."
      ]
    },
    {
      "cell_type": "markdown",
      "id": "e0e85531",
      "metadata": {
        "id": "e0e85531"
      },
      "source": [
        "Execute a célula abaixo apenas uma vez."
      ]
    },
    {
      "cell_type": "code",
      "execution_count": 1,
      "id": "7d725090",
      "metadata": {
        "colab": {
          "base_uri": "https://localhost:8080/"
        },
        "id": "7d725090",
        "outputId": "a028fa0f-5587-42a1-eaba-bc0b77328c24"
      },
      "outputs": [
        {
          "output_type": "stream",
          "name": "stderr",
          "text": [
            "Cloning into '30-day-challenges-with-sql'...\n"
          ]
        }
      ],
      "source": [
        "%%bash\n",
        "\n",
        "rm -rf /tmp/github; mkdir -p /tmp/github; cd /tmp/github\n",
        "git clone https://github.com/romeritomorais/30-day-challenges-with-sql.git\n",
        "sh /tmp/github/30-day-challenges-with-sql/challenges/utils/install-miniconda.sh > /dev/null 2>&1\n",
        "sh /tmp/github/30-day-challenges-with-sql/challenges/utils/update-miniconda.sh > /dev/null 2>&1"
      ]
    },
    {
      "cell_type": "markdown",
      "id": "467f1c4a",
      "metadata": {
        "id": "467f1c4a"
      },
      "source": [
        "Neste desafio precisamos criar uma nova tabela chamada `Track2` oriunda da transformação das tabelas: `Track`, `Album`, `Artist` e `Genre`. Vale lembrar que a tabela `Track` é a tabela da esquerda que será a base para realizarmos os relacionamentos. Utilize JOIN para resolver este problema.\n",
        "\n",
        "Critério:  \n",
        "Escreva essa transformação em apenas uma query. Boa sorte!\n",
        "\n",
        "resultado esperado:  \n",
        "\n",
        "|TrackId|artista             |musica                                      |compositor                                                                 |genero            |size_mb\n",
        "|-------:|-------------------:|-------------------------------------------:|-------------------------------------------------------------------------:|-----------------:|-------\n",
        "|      1|AC/DC               |For Those About To Rock (We Salute You)     |Angus Young, Malcolm Young, Brian Johnson                                  |Rock              |  10908\n",
        "|      2|Accept              |Balls to the Wall                           |                                                                           |Rock              |   5381\n",
        "|      3|Accept              |Fast As a Shark                             |F. Baltes, S. Kaufman, U. Dirkscneider & W. Hoffman                        |Rock              |   3897\n",
        "|     4|Accept              |Restless and Wild                           |F. Baltes, R.A. Smith-Diesel, S. Kaufman, U. Dirkscneider & W. Hoffman     |Rock              |   4230\n",
        "|      5|Accept              |Princess of the Dawn                        |Deaffy & R.A. Smith-Diesel                                                 |Rock              |   6143\n",
        "|      6|AC/DC               |Put The Finger On You                       |Angus Young, Malcolm Young, Brian Johnson                                  |Rock              |   6556\n",
        "|      7|AC/DC               |Let's Get It Up                             |Angus Young, Malcolm Young, Brian Johnson                                  |Rock              |   7457\n",
        "|      8|AC/DC               |Inject The Venom                            |Angus Young, Malcolm Young, Brian Johnson                                  |Rock              |   6692\n",
        "|      9|AC/DC               |Snowballed                                  |Angus Young, Malcolm Young, Brian Johnson                                  |Rock              |   6444\n",
        "|     10|AC/DC               |Evil Walks                                  |Angus Young, Malcolm Young, Brian Johnson                                  |Rock              |   8409\n",
        "|     11|AC/DC               |C.O.D.                                      |Angus Young, Malcolm Young, Brian Johnson                                  |Rock              |   6412\n",
        "|     12|AC/DC               |Breaking The Rules                          |Angus Young, Malcolm Young, Brian Johnson                                  |Rock              |   8395\n",
        "|     13|AC/DC               |Night Of The Long Knives                    |Angus Young, Malcolm Young, Brian Johnson                                  |Rock              |   6549\n",
        "|     14|AC/DC               |Spellbound                                  |Angus Young, Malcolm Young, Brian Johnson                                  |Rock              |   8610\n",
        "|     15|AC/DC               |Go Down                                     |AC/DC                                                                      |Rock              |  10593\n",
        "|     16|AC/DC               |Dog Eat Dog                                 |AC/DC                                                                      |Rock              |   6867\n",
        "|     17|AC/DC               |Let There Be Rock                           |AC/DC                                                                      |Rock              |  11739\n",
        "|     18|AC/DC               |Bad Boy Boogie                              |AC/DC                                                                      |Rock              |   8570\n",
        "|     19|AC/DC               |Problem Child                               |AC/DC                                                                      |Rock              |  10368\n",
        "|     20|AC/DC               |Overdose                                    |AC/DC                                                                      |Rock              |  11783\n",
        "|     21|AC/DC               |Hell Ain't A Bad Place To Be                |AC/DC                                                                      |Rock              |   8136\n",
        "\n",
        "Na célula onde se encontra o `%%sql`, escreva sua query, sem deletar o comando. Exemplo:  \n",
        "```python\n",
        "%%sql\n",
        "select * from Customer\n",
        "```\n",
        "\n",
        "Para resolução utilize a documentação do sqlite:https://www.sqlite.org/docs.html"
      ]
    },
    {
      "cell_type": "code",
      "execution_count": 2,
      "id": "2b36ffcd-323a-452a-a6a1-433be0285405",
      "metadata": {
        "colab": {
          "base_uri": "https://localhost:8080/",
          "height": 35
        },
        "id": "2b36ffcd-323a-452a-a6a1-433be0285405",
        "outputId": "5b53b802-21a2-4ed1-e037-7e553d952b48"
      },
      "outputs": [
        {
          "output_type": "execute_result",
          "data": {
            "text/plain": [
              "'Connected: @//tmp/github/30-day-challenges-with-sql/challenges/utils/db/database.db'"
            ],
            "application/vnd.google.colaboratory.intrinsic+json": {
              "type": "string"
            }
          },
          "metadata": {},
          "execution_count": 2
        }
      ],
      "source": [
        "%load_ext sql\n",
        "%sql sqlite://///tmp/github/30-day-challenges-with-sql/challenges/utils/db/database.db"
      ]
    },
    {
      "cell_type": "code",
      "source": [
        "%%sql\n",
        "create table track2 as\n",
        "select t.trackid\n",
        "     , ar.name as artista\n",
        "     , t.name as musica\n",
        "     , ifnull(t.composer,'') as compositor\n",
        "     , g.name as genero\n",
        "     , (t.bytes/1048576)||' MB' as size_mb\n",
        "  from track t\n",
        "left join album a on t.albumid = a.albumid\n",
        "left join artist ar on ar.artistid = a.artistid\n",
        "left join genre g on g.genreid = t.genreid\n",
        "where g.name = 'Rock'\n"
      ],
      "metadata": {
        "colab": {
          "base_uri": "https://localhost:8080/"
        },
        "id": "mNMG_CGTszc3",
        "outputId": "9dca5e6d-ab77-43bc-8901-b26bcd059ba4"
      },
      "id": "mNMG_CGTszc3",
      "execution_count": 21,
      "outputs": [
        {
          "output_type": "stream",
          "name": "stdout",
          "text": [
            " * sqlite://///tmp/github/30-day-challenges-with-sql/challenges/utils/db/database.db\n",
            "Done.\n"
          ]
        },
        {
          "output_type": "execute_result",
          "data": {
            "text/plain": [
              "[]"
            ]
          },
          "metadata": {},
          "execution_count": 21
        }
      ]
    },
    {
      "cell_type": "code",
      "source": [
        "%%sql\n",
        "select *\n",
        "  from track2\n",
        "limit 30"
      ],
      "metadata": {
        "colab": {
          "base_uri": "https://localhost:8080/",
          "height": 716
        },
        "id": "nI7tqJjfxoG7",
        "outputId": "f1072219-3897-47fd-83fe-4af6c5d5a61a"
      },
      "id": "nI7tqJjfxoG7",
      "execution_count": 23,
      "outputs": [
        {
          "output_type": "stream",
          "name": "stdout",
          "text": [
            " * sqlite://///tmp/github/30-day-challenges-with-sql/challenges/utils/db/database.db\n",
            "Done.\n"
          ]
        },
        {
          "output_type": "execute_result",
          "data": {
            "text/plain": [
              "[(1, 'AC/DC', 'For Those About To Rock (We Salute You)', 'Angus Young, Malcolm Young, Brian Johnson', 'Rock', '10 MB'),\n",
              " (2, 'Accept', 'Balls to the Wall', '', 'Rock', '5 MB'),\n",
              " (3, 'Accept', 'Fast As a Shark', 'F. Baltes, S. Kaufman, U. Dirkscneider & W. Hoffman', 'Rock', '3 MB'),\n",
              " (4, 'Accept', 'Restless and Wild', 'F. Baltes, R.A. Smith-Diesel, S. Kaufman, U. Dirkscneider & W. Hoffman', 'Rock', '4 MB'),\n",
              " (5, 'Accept', 'Princess of the Dawn', 'Deaffy & R.A. Smith-Diesel', 'Rock', '5 MB'),\n",
              " (6, 'AC/DC', 'Put The Finger On You', 'Angus Young, Malcolm Young, Brian Johnson', 'Rock', '6 MB'),\n",
              " (7, 'AC/DC', \"Let's Get It Up\", 'Angus Young, Malcolm Young, Brian Johnson', 'Rock', '7 MB'),\n",
              " (8, 'AC/DC', 'Inject The Venom', 'Angus Young, Malcolm Young, Brian Johnson', 'Rock', '6 MB'),\n",
              " (9, 'AC/DC', 'Snowballed', 'Angus Young, Malcolm Young, Brian Johnson', 'Rock', '6 MB'),\n",
              " (10, 'AC/DC', 'Evil Walks', 'Angus Young, Malcolm Young, Brian Johnson', 'Rock', '8 MB'),\n",
              " (11, 'AC/DC', 'C.O.D.', 'Angus Young, Malcolm Young, Brian Johnson', 'Rock', '6 MB'),\n",
              " (12, 'AC/DC', 'Breaking The Rules', 'Angus Young, Malcolm Young, Brian Johnson', 'Rock', '8 MB'),\n",
              " (13, 'AC/DC', 'Night Of The Long Knives', 'Angus Young, Malcolm Young, Brian Johnson', 'Rock', '6 MB'),\n",
              " (14, 'AC/DC', 'Spellbound', 'Angus Young, Malcolm Young, Brian Johnson', 'Rock', '8 MB'),\n",
              " (15, 'AC/DC', 'Go Down', 'AC/DC', 'Rock', '10 MB'),\n",
              " (16, 'AC/DC', 'Dog Eat Dog', 'AC/DC', 'Rock', '6 MB'),\n",
              " (17, 'AC/DC', 'Let There Be Rock', 'AC/DC', 'Rock', '11 MB'),\n",
              " (18, 'AC/DC', 'Bad Boy Boogie', 'AC/DC', 'Rock', '8 MB'),\n",
              " (19, 'AC/DC', 'Problem Child', 'AC/DC', 'Rock', '10 MB'),\n",
              " (20, 'AC/DC', 'Overdose', 'AC/DC', 'Rock', '11 MB'),\n",
              " (21, 'AC/DC', \"Hell Ain't A Bad Place To Be\", 'AC/DC', 'Rock', '7 MB'),\n",
              " (22, 'AC/DC', 'Whole Lotta Rosie', 'AC/DC', 'Rock', '10 MB'),\n",
              " (23, 'Aerosmith', 'Walk On Water', 'Steven Tyler, Joe Perry, Jack Blades, Tommy Shaw', 'Rock', '9 MB'),\n",
              " (24, 'Aerosmith', 'Love In An Elevator', 'Steven Tyler, Joe Perry', 'Rock', '10 MB'),\n",
              " (25, 'Aerosmith', 'Rag Doll', 'Steven Tyler, Joe Perry, Jim Vallance, Holly Knight', 'Rock', '8 MB'),\n",
              " (26, 'Aerosmith', 'What It Takes', 'Steven Tyler, Joe Perry, Desmond Child', 'Rock', '9 MB'),\n",
              " (27, 'Aerosmith', 'Dude (Looks Like A Lady)', 'Steven Tyler, Joe Perry, Desmond Child', 'Rock', '8 MB'),\n",
              " (28, 'Aerosmith', \"Janie's Got A Gun\", 'Steven Tyler, Tom Hamilton', 'Rock', '10 MB'),\n",
              " (29, 'Aerosmith', \"Cryin'\", 'Steven Tyler, Joe Perry, Taylor Rhodes', 'Rock', '9 MB'),\n",
              " (30, 'Aerosmith', 'Amazing', 'Steven Tyler, Richie Supa', 'Rock', '11 MB')]"
            ],
            "text/html": [
              "<table>\n",
              "    <thead>\n",
              "        <tr>\n",
              "            <th>TrackId</th>\n",
              "            <th>artista</th>\n",
              "            <th>musica</th>\n",
              "            <th>compositor</th>\n",
              "            <th>genero</th>\n",
              "            <th>size_mb</th>\n",
              "        </tr>\n",
              "    </thead>\n",
              "    <tbody>\n",
              "        <tr>\n",
              "            <td>1</td>\n",
              "            <td>AC/DC</td>\n",
              "            <td>For Those About To Rock (We Salute You)</td>\n",
              "            <td>Angus Young, Malcolm Young, Brian Johnson</td>\n",
              "            <td>Rock</td>\n",
              "            <td>10 MB</td>\n",
              "        </tr>\n",
              "        <tr>\n",
              "            <td>2</td>\n",
              "            <td>Accept</td>\n",
              "            <td>Balls to the Wall</td>\n",
              "            <td></td>\n",
              "            <td>Rock</td>\n",
              "            <td>5 MB</td>\n",
              "        </tr>\n",
              "        <tr>\n",
              "            <td>3</td>\n",
              "            <td>Accept</td>\n",
              "            <td>Fast As a Shark</td>\n",
              "            <td>F. Baltes, S. Kaufman, U. Dirkscneider &amp; W. Hoffman</td>\n",
              "            <td>Rock</td>\n",
              "            <td>3 MB</td>\n",
              "        </tr>\n",
              "        <tr>\n",
              "            <td>4</td>\n",
              "            <td>Accept</td>\n",
              "            <td>Restless and Wild</td>\n",
              "            <td>F. Baltes, R.A. Smith-Diesel, S. Kaufman, U. Dirkscneider &amp; W. Hoffman</td>\n",
              "            <td>Rock</td>\n",
              "            <td>4 MB</td>\n",
              "        </tr>\n",
              "        <tr>\n",
              "            <td>5</td>\n",
              "            <td>Accept</td>\n",
              "            <td>Princess of the Dawn</td>\n",
              "            <td>Deaffy &amp; R.A. Smith-Diesel</td>\n",
              "            <td>Rock</td>\n",
              "            <td>5 MB</td>\n",
              "        </tr>\n",
              "        <tr>\n",
              "            <td>6</td>\n",
              "            <td>AC/DC</td>\n",
              "            <td>Put The Finger On You</td>\n",
              "            <td>Angus Young, Malcolm Young, Brian Johnson</td>\n",
              "            <td>Rock</td>\n",
              "            <td>6 MB</td>\n",
              "        </tr>\n",
              "        <tr>\n",
              "            <td>7</td>\n",
              "            <td>AC/DC</td>\n",
              "            <td>Let&#x27;s Get It Up</td>\n",
              "            <td>Angus Young, Malcolm Young, Brian Johnson</td>\n",
              "            <td>Rock</td>\n",
              "            <td>7 MB</td>\n",
              "        </tr>\n",
              "        <tr>\n",
              "            <td>8</td>\n",
              "            <td>AC/DC</td>\n",
              "            <td>Inject The Venom</td>\n",
              "            <td>Angus Young, Malcolm Young, Brian Johnson</td>\n",
              "            <td>Rock</td>\n",
              "            <td>6 MB</td>\n",
              "        </tr>\n",
              "        <tr>\n",
              "            <td>9</td>\n",
              "            <td>AC/DC</td>\n",
              "            <td>Snowballed</td>\n",
              "            <td>Angus Young, Malcolm Young, Brian Johnson</td>\n",
              "            <td>Rock</td>\n",
              "            <td>6 MB</td>\n",
              "        </tr>\n",
              "        <tr>\n",
              "            <td>10</td>\n",
              "            <td>AC/DC</td>\n",
              "            <td>Evil Walks</td>\n",
              "            <td>Angus Young, Malcolm Young, Brian Johnson</td>\n",
              "            <td>Rock</td>\n",
              "            <td>8 MB</td>\n",
              "        </tr>\n",
              "        <tr>\n",
              "            <td>11</td>\n",
              "            <td>AC/DC</td>\n",
              "            <td>C.O.D.</td>\n",
              "            <td>Angus Young, Malcolm Young, Brian Johnson</td>\n",
              "            <td>Rock</td>\n",
              "            <td>6 MB</td>\n",
              "        </tr>\n",
              "        <tr>\n",
              "            <td>12</td>\n",
              "            <td>AC/DC</td>\n",
              "            <td>Breaking The Rules</td>\n",
              "            <td>Angus Young, Malcolm Young, Brian Johnson</td>\n",
              "            <td>Rock</td>\n",
              "            <td>8 MB</td>\n",
              "        </tr>\n",
              "        <tr>\n",
              "            <td>13</td>\n",
              "            <td>AC/DC</td>\n",
              "            <td>Night Of The Long Knives</td>\n",
              "            <td>Angus Young, Malcolm Young, Brian Johnson</td>\n",
              "            <td>Rock</td>\n",
              "            <td>6 MB</td>\n",
              "        </tr>\n",
              "        <tr>\n",
              "            <td>14</td>\n",
              "            <td>AC/DC</td>\n",
              "            <td>Spellbound</td>\n",
              "            <td>Angus Young, Malcolm Young, Brian Johnson</td>\n",
              "            <td>Rock</td>\n",
              "            <td>8 MB</td>\n",
              "        </tr>\n",
              "        <tr>\n",
              "            <td>15</td>\n",
              "            <td>AC/DC</td>\n",
              "            <td>Go Down</td>\n",
              "            <td>AC/DC</td>\n",
              "            <td>Rock</td>\n",
              "            <td>10 MB</td>\n",
              "        </tr>\n",
              "        <tr>\n",
              "            <td>16</td>\n",
              "            <td>AC/DC</td>\n",
              "            <td>Dog Eat Dog</td>\n",
              "            <td>AC/DC</td>\n",
              "            <td>Rock</td>\n",
              "            <td>6 MB</td>\n",
              "        </tr>\n",
              "        <tr>\n",
              "            <td>17</td>\n",
              "            <td>AC/DC</td>\n",
              "            <td>Let There Be Rock</td>\n",
              "            <td>AC/DC</td>\n",
              "            <td>Rock</td>\n",
              "            <td>11 MB</td>\n",
              "        </tr>\n",
              "        <tr>\n",
              "            <td>18</td>\n",
              "            <td>AC/DC</td>\n",
              "            <td>Bad Boy Boogie</td>\n",
              "            <td>AC/DC</td>\n",
              "            <td>Rock</td>\n",
              "            <td>8 MB</td>\n",
              "        </tr>\n",
              "        <tr>\n",
              "            <td>19</td>\n",
              "            <td>AC/DC</td>\n",
              "            <td>Problem Child</td>\n",
              "            <td>AC/DC</td>\n",
              "            <td>Rock</td>\n",
              "            <td>10 MB</td>\n",
              "        </tr>\n",
              "        <tr>\n",
              "            <td>20</td>\n",
              "            <td>AC/DC</td>\n",
              "            <td>Overdose</td>\n",
              "            <td>AC/DC</td>\n",
              "            <td>Rock</td>\n",
              "            <td>11 MB</td>\n",
              "        </tr>\n",
              "        <tr>\n",
              "            <td>21</td>\n",
              "            <td>AC/DC</td>\n",
              "            <td>Hell Ain&#x27;t A Bad Place To Be</td>\n",
              "            <td>AC/DC</td>\n",
              "            <td>Rock</td>\n",
              "            <td>7 MB</td>\n",
              "        </tr>\n",
              "        <tr>\n",
              "            <td>22</td>\n",
              "            <td>AC/DC</td>\n",
              "            <td>Whole Lotta Rosie</td>\n",
              "            <td>AC/DC</td>\n",
              "            <td>Rock</td>\n",
              "            <td>10 MB</td>\n",
              "        </tr>\n",
              "        <tr>\n",
              "            <td>23</td>\n",
              "            <td>Aerosmith</td>\n",
              "            <td>Walk On Water</td>\n",
              "            <td>Steven Tyler, Joe Perry, Jack Blades, Tommy Shaw</td>\n",
              "            <td>Rock</td>\n",
              "            <td>9 MB</td>\n",
              "        </tr>\n",
              "        <tr>\n",
              "            <td>24</td>\n",
              "            <td>Aerosmith</td>\n",
              "            <td>Love In An Elevator</td>\n",
              "            <td>Steven Tyler, Joe Perry</td>\n",
              "            <td>Rock</td>\n",
              "            <td>10 MB</td>\n",
              "        </tr>\n",
              "        <tr>\n",
              "            <td>25</td>\n",
              "            <td>Aerosmith</td>\n",
              "            <td>Rag Doll</td>\n",
              "            <td>Steven Tyler, Joe Perry, Jim Vallance, Holly Knight</td>\n",
              "            <td>Rock</td>\n",
              "            <td>8 MB</td>\n",
              "        </tr>\n",
              "        <tr>\n",
              "            <td>26</td>\n",
              "            <td>Aerosmith</td>\n",
              "            <td>What It Takes</td>\n",
              "            <td>Steven Tyler, Joe Perry, Desmond Child</td>\n",
              "            <td>Rock</td>\n",
              "            <td>9 MB</td>\n",
              "        </tr>\n",
              "        <tr>\n",
              "            <td>27</td>\n",
              "            <td>Aerosmith</td>\n",
              "            <td>Dude (Looks Like A Lady)</td>\n",
              "            <td>Steven Tyler, Joe Perry, Desmond Child</td>\n",
              "            <td>Rock</td>\n",
              "            <td>8 MB</td>\n",
              "        </tr>\n",
              "        <tr>\n",
              "            <td>28</td>\n",
              "            <td>Aerosmith</td>\n",
              "            <td>Janie&#x27;s Got A Gun</td>\n",
              "            <td>Steven Tyler, Tom Hamilton</td>\n",
              "            <td>Rock</td>\n",
              "            <td>10 MB</td>\n",
              "        </tr>\n",
              "        <tr>\n",
              "            <td>29</td>\n",
              "            <td>Aerosmith</td>\n",
              "            <td>Cryin&#x27;</td>\n",
              "            <td>Steven Tyler, Joe Perry, Taylor Rhodes</td>\n",
              "            <td>Rock</td>\n",
              "            <td>9 MB</td>\n",
              "        </tr>\n",
              "        <tr>\n",
              "            <td>30</td>\n",
              "            <td>Aerosmith</td>\n",
              "            <td>Amazing</td>\n",
              "            <td>Steven Tyler, Richie Supa</td>\n",
              "            <td>Rock</td>\n",
              "            <td>11 MB</td>\n",
              "        </tr>\n",
              "    </tbody>\n",
              "</table>"
            ]
          },
          "metadata": {},
          "execution_count": 23
        }
      ]
    }
  ],
  "metadata": {
    "kernelspec": {
      "display_name": "Python 3",
      "language": "python",
      "name": "python3"
    },
    "language_info": {
      "codemirror_mode": {
        "name": "ipython",
        "version": 3
      },
      "file_extension": ".py",
      "mimetype": "text/x-python",
      "name": "python",
      "nbconvert_exporter": "python",
      "pygments_lexer": "ipython3",
      "version": "3.10.4"
    },
    "colab": {
      "name": "notebook_challenge_007_level2.ipynb",
      "provenance": []
    }
  },
  "nbformat": 4,
  "nbformat_minor": 5
}
