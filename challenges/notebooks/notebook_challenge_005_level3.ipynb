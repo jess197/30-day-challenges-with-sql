{
  "cells": [
    {
      "cell_type": "markdown",
      "id": "160bbfb2",
      "metadata": {
        "id": "160bbfb2"
      },
      "source": [
        "\n",
        "# Por favor tente resolver o desafio sozinho, não pegue atalhos, tu consegue, é só colocar a cabeça para funcionar."
      ]
    },
    {
      "cell_type": "markdown",
      "id": "e0e85531",
      "metadata": {
        "id": "e0e85531"
      },
      "source": [
        "Execute a célula abaixo apenas uma vez."
      ]
    },
    {
      "cell_type": "code",
      "execution_count": 1,
      "id": "7d725090",
      "metadata": {
        "id": "7d725090",
        "outputId": "3e917f6a-737f-46b8-95e8-f03c0dc41377",
        "colab": {
          "base_uri": "https://localhost:8080/"
        }
      },
      "outputs": [
        {
          "output_type": "stream",
          "name": "stderr",
          "text": [
            "Cloning into '30-day-challenges-with-sql'...\n"
          ]
        }
      ],
      "source": [
        "%%bash\n",
        "\n",
        "rm -rf /tmp/github; mkdir -p /tmp/github; cd /tmp/github\n",
        "git clone https://github.com/romeritomorais/30-day-challenges-with-sql.git\n",
        "sh /tmp/github/30-day-challenges-with-sql/challenges/utils/install-miniconda.sh > /dev/null 2>&1\n",
        "sh /tmp/github/30-day-challenges-with-sql/challenges/utils/update-miniconda.sh > /dev/null 2>&1"
      ]
    },
    {
      "cell_type": "markdown",
      "id": "467f1c4a",
      "metadata": {
        "id": "467f1c4a"
      },
      "source": [
        "Nesse desafio eu preciso de uma transformação completa da tabela `Customer` \n",
        "1.concatene as colunas `Customer.FirstName` com `Customer.LastName` e gere uma coluna com a descrição `nome` onde apenas a primeira letra do nome seja Maiúscula.    \n",
        "2.concatene as colunas `Customer.City` com `Customer.State` e gere uma coluna com a descrição `cidade` onde apenas a coluna `Customer.State` seja Maiúscula. exemplo: belém-PA.     \n",
        "3.crie uma nova coluna denominada `cep` a partir da coluna `Customer.PostalCode` removendo todos os caracteres e convertendo o a coluna para o tipo de dados Integer.   \n",
        "4.a filtragem da tabela precisa pegar apenas os dados da país \"BRAZIL\" e o cep <> 0\n",
        "\n",
        "Critério:  \n",
        "e o critério principal é que voce escreva essa transformação em apenas uma query. Boa sorte\n",
        "\n",
        "\n",
        "resultado esperado:  \n",
        "\n",
        "|codigo|nome|endereco|cidade|pais|cep|telefone|Email\n",
        "|-----:|-----:|-----:|-----:|-----:|-----:|-----:|-----\n",
        "|1|Luís gonçalves|av. brigadeiro faria lima, 2170|são josé dos campos-SP|BRAZIL|12227000|551239235555|luisg@embraer.com.br\n",
        "|10|Eduardo martins|rua dr. falcão filho, 155|são paulo-SP|BRAZIL|1007010|551130335446|eduardo@woodstock.com.br\n",
        "|11|Alexandre rocha|av. paulista, 2022|são paulo-SP|BRAZIL|1310200|551130553278|alero@uol.com.br\n",
        "|12|Roberto almeida|praça pio x, 119|rio de janeiro-RJ|BRAZIL|20040020|552122717000|roberto.almeida@riotur.gov.br\n",
        "|13|Fernanda ramos|qe 7 bloco g|brasília-DF|BRAZIL|71020677|556133635547|fernadaramos4@uol.com.br\n",
        "\n",
        "Na celula onde tem `%%sql` tu vai escrever a query abaixo dela, exemplo:  \n",
        "```python\n",
        "%%sql\n",
        "select * from Customer\n",
        "```\n",
        "\n",
        "Para resolução tu podes usar a documentação do sqlite:https://www.sqlite.org/docs.html"
      ]
    },
    {
      "cell_type": "code",
      "execution_count": 3,
      "id": "981a5488",
      "metadata": {
        "id": "981a5488",
        "outputId": "eb01fae9-6304-45ee-ddab-a2bb9df9aff1",
        "colab": {
          "base_uri": "https://localhost:8080/",
          "height": 35
        }
      },
      "outputs": [
        {
          "output_type": "execute_result",
          "data": {
            "text/plain": [
              "'Connected: @//tmp/github/30-day-challenges-with-sql/challenges/utils/db/database.db'"
            ],
            "application/vnd.google.colaboratory.intrinsic+json": {
              "type": "string"
            }
          },
          "metadata": {},
          "execution_count": 3
        }
      ],
      "source": [
        "%load_ext sql\n",
        "%sql sqlite://///tmp/github/30-day-challenges-with-sql/challenges/utils/db/database.db"
      ]
    },
    {
      "cell_type": "code",
      "source": [
        "pip install regex"
      ],
      "metadata": {
        "id": "5iZLbHbdDBLB",
        "outputId": "cd545867-5761-40e3-db58-75dac6bc533a",
        "colab": {
          "base_uri": "https://localhost:8080/"
        }
      },
      "id": "5iZLbHbdDBLB",
      "execution_count": 4,
      "outputs": [
        {
          "output_type": "stream",
          "name": "stdout",
          "text": [
            "Collecting regex\n",
            "  Downloading regex-2022.3.15-cp39-cp39-manylinux_2_17_x86_64.manylinux2014_x86_64.whl (763 kB)\n",
            "\u001b[?25l\r\u001b[K     |▍                               | 10 kB 23.1 MB/s eta 0:00:01\r\u001b[K     |▉                               | 20 kB 27.7 MB/s eta 0:00:01\r\u001b[K     |█▎                              | 30 kB 31.5 MB/s eta 0:00:01\r\u001b[K     |█▊                              | 40 kB 32.5 MB/s eta 0:00:01\r\u001b[K     |██▏                             | 51 kB 20.2 MB/s eta 0:00:01\r\u001b[K     |██▋                             | 61 kB 22.3 MB/s eta 0:00:01\r\u001b[K     |███                             | 71 kB 24.3 MB/s eta 0:00:01\r\u001b[K     |███▍                            | 81 kB 25.8 MB/s eta 0:00:01\r\u001b[K     |███▉                            | 92 kB 27.8 MB/s eta 0:00:01\r\u001b[K     |████▎                           | 102 kB 27.4 MB/s eta 0:00:01\r\u001b[K     |████▊                           | 112 kB 27.4 MB/s eta 0:00:01\r\u001b[K     |█████▏                          | 122 kB 27.4 MB/s eta 0:00:01\r\u001b[K     |█████▋                          | 133 kB 27.4 MB/s eta 0:00:01\r\u001b[K     |██████                          | 143 kB 27.4 MB/s eta 0:00:01\r\u001b[K     |██████▍                         | 153 kB 27.4 MB/s eta 0:00:01\r\u001b[K     |██████▉                         | 163 kB 27.4 MB/s eta 0:00:01\r\u001b[K     |███████▎                        | 174 kB 27.4 MB/s eta 0:00:01\r\u001b[K     |███████▊                        | 184 kB 27.4 MB/s eta 0:00:01\r\u001b[K     |████████▏                       | 194 kB 27.4 MB/s eta 0:00:01\r\u001b[K     |████████▋                       | 204 kB 27.4 MB/s eta 0:00:01\r\u001b[K     |█████████                       | 215 kB 27.4 MB/s eta 0:00:01\r\u001b[K     |█████████▌                      | 225 kB 27.4 MB/s eta 0:00:01\r\u001b[K     |█████████▉                      | 235 kB 27.4 MB/s eta 0:00:01\r\u001b[K     |██████████▎                     | 245 kB 27.4 MB/s eta 0:00:01\r\u001b[K     |██████████▊                     | 256 kB 27.4 MB/s eta 0:00:01\r\u001b[K     |███████████▏                    | 266 kB 27.4 MB/s eta 0:00:01\r\u001b[K     |███████████▋                    | 276 kB 27.4 MB/s eta 0:00:01\r\u001b[K     |████████████                    | 286 kB 27.4 MB/s eta 0:00:01\r\u001b[K     |████████████▌                   | 296 kB 27.4 MB/s eta 0:00:01\r\u001b[K     |████████████▉                   | 307 kB 27.4 MB/s eta 0:00:01\r\u001b[K     |█████████████▎                  | 317 kB 27.4 MB/s eta 0:00:01\r\u001b[K     |█████████████▊                  | 327 kB 27.4 MB/s eta 0:00:01\r\u001b[K     |██████████████▏                 | 337 kB 27.4 MB/s eta 0:00:01\r\u001b[K     |██████████████▋                 | 348 kB 27.4 MB/s eta 0:00:01\r\u001b[K     |███████████████                 | 358 kB 27.4 MB/s eta 0:00:01\r\u001b[K     |███████████████▌                | 368 kB 27.4 MB/s eta 0:00:01\r\u001b[K     |███████████████▉                | 378 kB 27.4 MB/s eta 0:00:01\r\u001b[K     |████████████████▎               | 389 kB 27.4 MB/s eta 0:00:01\r\u001b[K     |████████████████▊               | 399 kB 27.4 MB/s eta 0:00:01\r\u001b[K     |█████████████████▏              | 409 kB 27.4 MB/s eta 0:00:01\r\u001b[K     |█████████████████▋              | 419 kB 27.4 MB/s eta 0:00:01\r\u001b[K     |██████████████████              | 430 kB 27.4 MB/s eta 0:00:01\r\u001b[K     |██████████████████▌             | 440 kB 27.4 MB/s eta 0:00:01\r\u001b[K     |███████████████████             | 450 kB 27.4 MB/s eta 0:00:01\r\u001b[K     |███████████████████▎            | 460 kB 27.4 MB/s eta 0:00:01\r\u001b[K     |███████████████████▊            | 471 kB 27.4 MB/s eta 0:00:01\r\u001b[K     |████████████████████▏           | 481 kB 27.4 MB/s eta 0:00:01\r\u001b[K     |████████████████████▋           | 491 kB 27.4 MB/s eta 0:00:01\r\u001b[K     |█████████████████████           | 501 kB 27.4 MB/s eta 0:00:01\r\u001b[K     |█████████████████████▌          | 512 kB 27.4 MB/s eta 0:00:01\r\u001b[K     |██████████████████████          | 522 kB 27.4 MB/s eta 0:00:01\r\u001b[K     |██████████████████████▎         | 532 kB 27.4 MB/s eta 0:00:01\r\u001b[K     |██████████████████████▊         | 542 kB 27.4 MB/s eta 0:00:01\r\u001b[K     |███████████████████████▏        | 552 kB 27.4 MB/s eta 0:00:01\r\u001b[K     |███████████████████████▋        | 563 kB 27.4 MB/s eta 0:00:01\r\u001b[K     |████████████████████████        | 573 kB 27.4 MB/s eta 0:00:01\r\u001b[K     |████████████████████████▌       | 583 kB 27.4 MB/s eta 0:00:01\r\u001b[K     |█████████████████████████       | 593 kB 27.4 MB/s eta 0:00:01\r\u001b[K     |█████████████████████████▎      | 604 kB 27.4 MB/s eta 0:00:01\r\u001b[K     |█████████████████████████▊      | 614 kB 27.4 MB/s eta 0:00:01\r\u001b[K     |██████████████████████████▏     | 624 kB 27.4 MB/s eta 0:00:01\r\u001b[K     |██████████████████████████▋     | 634 kB 27.4 MB/s eta 0:00:01\r\u001b[K     |███████████████████████████     | 645 kB 27.4 MB/s eta 0:00:01\r\u001b[K     |███████████████████████████▌    | 655 kB 27.4 MB/s eta 0:00:01\r\u001b[K     |████████████████████████████    | 665 kB 27.4 MB/s eta 0:00:01\r\u001b[K     |████████████████████████████▍   | 675 kB 27.4 MB/s eta 0:00:01\r\u001b[K     |████████████████████████████▊   | 686 kB 27.4 MB/s eta 0:00:01\r\u001b[K     |█████████████████████████████▏  | 696 kB 27.4 MB/s eta 0:00:01\r\u001b[K     |█████████████████████████████▋  | 706 kB 27.4 MB/s eta 0:00:01\r\u001b[K     |██████████████████████████████  | 716 kB 27.4 MB/s eta 0:00:01\r\u001b[K     |██████████████████████████████▌ | 727 kB 27.4 MB/s eta 0:00:01\r\u001b[K     |███████████████████████████████ | 737 kB 27.4 MB/s eta 0:00:01\r\u001b[K     |███████████████████████████████▍| 747 kB 27.4 MB/s eta 0:00:01\r\u001b[K     |███████████████████████████████▊| 757 kB 27.4 MB/s eta 0:00:01\r\u001b[K     |████████████████████████████████| 763 kB 27.4 MB/s \n",
            "\u001b[?25hInstalling collected packages: regex\n",
            "Successfully installed regex-2022.3.15\n",
            "\u001b[33mWARNING: Running pip as the 'root' user can result in broken permissions and conflicting behaviour with the system package manager. It is recommended to use a virtual environment instead: https://pip.pypa.io/warnings/venv\u001b[0m\n"
          ]
        }
      ]
    },
    {
      "cell_type": "code",
      "execution_count": 8,
      "id": "275157e9",
      "metadata": {
        "id": "275157e9",
        "outputId": "eb6bbc5f-add1-4474-8992-0acb2daaaea2",
        "colab": {
          "base_uri": "https://localhost:8080/",
          "height": 182
        }
      },
      "outputs": [
        {
          "output_type": "stream",
          "name": "stdout",
          "text": [
            " * sqlite://///tmp/github/30-day-challenges-with-sql/challenges/utils/db/database.db\n",
            "Done.\n"
          ]
        },
        {
          "output_type": "execute_result",
          "data": {
            "text/plain": [
              "[(1, 'Luís gonçalves', 'av. brigadeiro faria lima, 2170', 'São José dos Campos-SP', 'BRAZIL', '12227000', '551239235555', 'luisg@embraer.com.br'),\n",
              " (10, 'Eduardo martins', 'rua dr. falcão filho, 155', 'São Paulo-SP', 'BRAZIL', '1007010', '551130335446', 'eduardo@woodstock.com.br'),\n",
              " (11, 'Alexandre rocha', 'av. paulista, 2022', 'São Paulo-SP', 'BRAZIL', '1310200', '551130553278', 'alero@uol.com.br'),\n",
              " (12, 'Roberto almeida', 'praça pio x, 119', 'Rio de Janeiro-RJ', 'BRAZIL', '20040020', '552122717000', 'roberto.almeida@riotur.gov.br'),\n",
              " (13, 'Fernanda ramos', 'qe 7 bloco g', 'Brasília-DF', 'BRAZIL', '71020677', '556133635547', 'fernadaramos4@uol.com.br')]"
            ],
            "text/html": [
              "<table>\n",
              "    <thead>\n",
              "        <tr>\n",
              "            <th>codigo</th>\n",
              "            <th>nome</th>\n",
              "            <th>endereco</th>\n",
              "            <th>cidade</th>\n",
              "            <th>pais</th>\n",
              "            <th>cep</th>\n",
              "            <th>telefone</th>\n",
              "            <th>Email</th>\n",
              "        </tr>\n",
              "    </thead>\n",
              "    <tbody>\n",
              "        <tr>\n",
              "            <td>1</td>\n",
              "            <td>Luís gonçalves</td>\n",
              "            <td>av. brigadeiro faria lima, 2170</td>\n",
              "            <td>São José dos Campos-SP</td>\n",
              "            <td>BRAZIL</td>\n",
              "            <td>12227000</td>\n",
              "            <td>551239235555</td>\n",
              "            <td>luisg@embraer.com.br</td>\n",
              "        </tr>\n",
              "        <tr>\n",
              "            <td>10</td>\n",
              "            <td>Eduardo martins</td>\n",
              "            <td>rua dr. falcão filho, 155</td>\n",
              "            <td>São Paulo-SP</td>\n",
              "            <td>BRAZIL</td>\n",
              "            <td>1007010</td>\n",
              "            <td>551130335446</td>\n",
              "            <td>eduardo@woodstock.com.br</td>\n",
              "        </tr>\n",
              "        <tr>\n",
              "            <td>11</td>\n",
              "            <td>Alexandre rocha</td>\n",
              "            <td>av. paulista, 2022</td>\n",
              "            <td>São Paulo-SP</td>\n",
              "            <td>BRAZIL</td>\n",
              "            <td>1310200</td>\n",
              "            <td>551130553278</td>\n",
              "            <td>alero@uol.com.br</td>\n",
              "        </tr>\n",
              "        <tr>\n",
              "            <td>12</td>\n",
              "            <td>Roberto almeida</td>\n",
              "            <td>praça pio x, 119</td>\n",
              "            <td>Rio de Janeiro-RJ</td>\n",
              "            <td>BRAZIL</td>\n",
              "            <td>20040020</td>\n",
              "            <td>552122717000</td>\n",
              "            <td>roberto.almeida@riotur.gov.br</td>\n",
              "        </tr>\n",
              "        <tr>\n",
              "            <td>13</td>\n",
              "            <td>Fernanda ramos</td>\n",
              "            <td>qe 7 bloco g</td>\n",
              "            <td>Brasília-DF</td>\n",
              "            <td>BRAZIL</td>\n",
              "            <td>71020677</td>\n",
              "            <td>556133635547</td>\n",
              "            <td>fernadaramos4@uol.com.br</td>\n",
              "        </tr>\n",
              "    </tbody>\n",
              "</table>"
            ]
          },
          "metadata": {},
          "execution_count": 8
        }
      ],
      "source": [
        "%%sql\n",
        "select CustomerId as codigo\n",
        "     , upper(substr(FirstName,0,1))||substr(FirstName,1)||' '||lower(LastName) as nome\n",
        "     , Lower(Address) as endereco\n",
        "     , City||'-'||Upper(State) as cidade\n",
        "     , upper(Country) as pais\n",
        "     , trim(cast(replace(PostalCode,'-','') as int)) as cep\n",
        "    -- , regexp_replace(phone,'[a-zA-Z _\\-#]','') as telefone\n",
        "     , replace(replace(replace(replace(replace(phone,'-',''),'+',''),' ',''),')',''),'(','') as telefone\n",
        "     , email\n",
        "  from Customer\n",
        "where pais = 'BRAZIL'\n",
        "   and cep <> 0\n",
        "\n",
        "/* - I used upper and substr function to upper just the first letter, concatenated with the rest of the name and the last name with lower function. \n",
        "   - Lower function to address \n",
        "   - Concatenate City and State with '-' and used Upper function to state\n",
        "   - Upper country \n",
        "   - Used replace to remove '-' from postal code and used cast to convert string to integer\n",
        "   - I also used regexp_replace on phone, to remove special characteres, but It's an extension to SQLITE and I didn't used on google colab \n",
        "   - Then I used nested replaces */"
      ]
    }
  ],
  "metadata": {
    "kernelspec": {
      "display_name": "Python 3",
      "language": "python",
      "name": "python3"
    },
    "language_info": {
      "codemirror_mode": {
        "name": "ipython",
        "version": 3
      },
      "file_extension": ".py",
      "mimetype": "text/x-python",
      "name": "python",
      "nbconvert_exporter": "python",
      "pygments_lexer": "ipython3",
      "version": "3.10.4"
    },
    "colab": {
      "name": "notebook_challenge_005_level3.ipynb",
      "provenance": []
    }
  },
<<<<<<< HEAD
  "nbformat": 4,
  "nbformat_minor": 5
=======
  {
   "cell_type": "markdown",
   "id": "e0e85531",
   "metadata": {},
   "source": [
    "Execute a célula abaixo apenas uma vez."
   ]
  },
  {
   "cell_type": "code",
   "execution_count": null,
   "id": "7d725090",
   "metadata": {},
   "outputs": [],
   "source": [
    "%%bash\n",
    "\n",
    "rm -rf /tmp/github; mkdir -p /tmp/github; cd /tmp/github\n",
    "git clone https://github.com/romeritomorais/30-day-challenges-with-sql.git\n",
    "sh /tmp/github/30-day-challenges-with-sql/challenges/utils/install-miniconda.sh > /dev/null 2>&1\n",
    "sh /tmp/github/30-day-challenges-with-sql/challenges/utils/update-miniconda.sh > /dev/null 2>&1\n",
    "sh /tmp/github/30-day-challenges-with-sql/challenges/utils/upgrade-sqlite3.sh > /dev/null 2>&1"
   ]
  },
  {
   "cell_type": "markdown",
   "id": "467f1c4a",
   "metadata": {},
   "source": [
    "Neste desafio precisaremos fazer uma transformação completa na tabela `Customer`! \n",
    "1.Concatene as colunas `Customer.FirstName` e `Customer.LastName`, gerando uma coluna `nome` onde apenas a primeira letra do nome seja Maiúscula. Exemplo: Fernanda Ramos    \n",
    "2.Concatene as colunas `Customer.City` e `Customer.State`, e gerando uma coluna com a descrição `cidade` onde apenas a coluna `Customer.State` seja Maiúscula. Exemplo: belém-PA.     \n",
    "3.Crie uma nova coluna chamada `cep` a partir da coluna `Customer.PostalCode` removendo todos os caracteres e convertendo o tipo de dados para Integer. \n",
    "4.Filtre a tabela para apresentear somente dados do país \"BRAZIL\" e cep <> 0\n",
    "\n",
    "Critério:  \n",
    "Escreva essa transformação em apenas uma query. Boa sorte!\n",
    "\n",
    "resultado esperado:  \n",
    "\n",
    "|codigo|nome|endereco|cidade|pais|cep|telefone|Email\n",
    "|-----:|-----:|-----:|-----:|-----:|-----:|-----:|-----\n",
    "|1|Luís gonçalves|av. brigadeiro faria lima, 2170|são josé dos campos-SP|BRAZIL|12227000|551239235555|luisg@embraer.com.br\n",
    "|10|Eduardo martins|rua dr. falcão filho, 155|são paulo-SP|BRAZIL|1007010|551130335446|eduardo@woodstock.com.br\n",
    "|11|Alexandre rocha|av. paulista, 2022|são paulo-SP|BRAZIL|1310200|551130553278|alero@uol.com.br\n",
    "|12|Roberto almeida|praça pio x, 119|rio de janeiro-RJ|BRAZIL|20040020|552122717000|roberto.almeida@riotur.gov.br\n",
    "|13|Fernanda ramos|qe 7 bloco g|brasília-DF|BRAZIL|71020677|556133635547|fernadaramos4@uol.com.br\n",
    "\n",
    "Na célula onde se encontra o `%%sql`, escreva sua query, sem deletar o comando. Exemplo:  \n",
    "```python\n",
    "%%sql\n",
    "select * from Customer\n",
    "```\n",
    "\n",
    "Para resolução utilize esse link: https://www.tutlane.com/tutorial/sqlite"
   ]
  },
  {
   "cell_type": "code",
   "execution_count": null,
   "id": "981a5488",
   "metadata": {},
   "outputs": [],
   "source": [
    "%load_ext sql\n",
    "%sql sqlite://///tmp/github/30-day-challenges-with-sql/challenges/utils/db/database.db3"
   ]
  },
  {
   "cell_type": "markdown",
   "id": "9110ad41",
   "metadata": {},
   "source": [
    "explicação da implementação do código\n",
    "...."
   ]
  },
  {
   "cell_type": "code",
   "execution_count": null,
   "id": "275157e9",
   "metadata": {},
   "outputs": [],
   "source": [
    "%%sql\n"
   ]
  }
 ],
 "metadata": {
  "kernelspec": {
   "display_name": "Python 3",
   "language": "python",
   "name": "python3"
  },
  "language_info": {
   "codemirror_mode": {
    "name": "ipython",
    "version": 3
   },
   "file_extension": ".py",
   "mimetype": "text/x-python",
   "name": "python",
   "nbconvert_exporter": "python",
   "pygments_lexer": "ipython3",
   "version": "3.10.4"
  }
 },
 "nbformat": 4,
 "nbformat_minor": 5
>>>>>>> upstream/main
}
